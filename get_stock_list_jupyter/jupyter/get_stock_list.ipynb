{
 "cells": [
  {
   "cell_type": "code",
   "execution_count": 22,
   "metadata": {},
   "outputs": [],
   "source": [
    "import pandas as pd\n",
    "import json\n",
    "import requests\n",
    "\n",
    "response = requests.get('https://isin.twse.com.tw/isin/class_main.jsp?owncode=&stockname=&isincode=&market=1&issuetype=1&industry_code=&Page=1&chklike=Y')\n",
    "df = pd.read_html(response.text)\n",
    "df[0].columns = ['PageNumber', 'ISIN', 'StockCode', 'StockName', 'MarketType', 'StockType', 'Industry', 'IssueDate', 'CFICode', 'Remarks']\n",
    "df[0].to_csv('stock_list.csv', index=False, header=False)"
   ]
  },
  {
   "cell_type": "code",
   "execution_count": 23,
   "metadata": {},
   "outputs": [
    {
     "name": "stdout",
     "output_type": "stream",
     "text": [
      "    PageNumber          ISIN StockCode StockName MarketType StockType  \\\n",
      "0         頁面編號        國際證券編碼    有價證券代號    有價證券名稱        市場別     有價證券別   \n",
      "1            1  TW0001101004      1101        台泥         上市        股票   \n",
      "2            2  TW0001102002      1102        亞泥         上市        股票   \n",
      "3            3  TW0001103000      1103        嘉泥         上市        股票   \n",
      "4            4  TW0001104008      1104        環泥         上市        股票   \n",
      "..         ...           ...       ...       ...        ...       ...   \n",
      "973        973  TW0009944009      9944        新麗         上市        股票   \n",
      "974        974  TW0009945006      9945       潤泰新         上市        股票   \n",
      "975        975  TW0009946004      9946      三發地產         上市        股票   \n",
      "976        976  TW0009955005      9955        佳龍         上市        股票   \n",
      "977        977  TW0009958009      9958       世紀鋼         上市        股票   \n",
      "\n",
      "    Industry       IssueDate  CFICode Remarks  \n",
      "0        產業別  公開發行/上市(櫃)/發行日  CFICode      備註  \n",
      "1       水泥工業      1962/02/09   ESVUFR     NaN  \n",
      "2       水泥工業      1962/06/08   ESVUFR     NaN  \n",
      "3       水泥工業      1969/11/14   ESVUFR     NaN  \n",
      "4       水泥工業      1971/02/01   ESVUFR     NaN  \n",
      "..       ...             ...      ...     ...  \n",
      "973      其他業      2002/08/26   ESVUFR     NaN  \n",
      "974      其他業      1992/04/30   ESVUFR     NaN  \n",
      "975    建材營造業      2013/09/17   ESVUFR     NaN  \n",
      "976     綠能環保      2008/01/21   ESVUFR     NaN  \n",
      "977     鋼鐵工業      2008/03/12   ESVUFR     NaN  \n",
      "\n",
      "[978 rows x 10 columns]\n"
     ]
    }
   ],
   "source": [
    "print(df[0])"
   ]
  }
 ],
 "metadata": {
  "kernelspec": {
   "display_name": "bq2lit-8raSVDdJ",
   "language": "python",
   "name": "python3"
  },
  "language_info": {
   "codemirror_mode": {
    "name": "ipython",
    "version": 3
   },
   "file_extension": ".py",
   "mimetype": "text/x-python",
   "name": "python",
   "nbconvert_exporter": "python",
   "pygments_lexer": "ipython3",
   "version": "3.8.0"
  },
  "orig_nbformat": 4
 },
 "nbformat": 4,
 "nbformat_minor": 2
}
